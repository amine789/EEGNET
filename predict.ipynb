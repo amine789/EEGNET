{
 "cells": [
  {
   "cell_type": "markdown",
   "id": "99c654c0",
   "metadata": {},
   "source": [
    "### Checking files"
   ]
  },
  {
   "cell_type": "code",
   "execution_count": 1,
   "id": "733c2c61",
   "metadata": {},
   "outputs": [],
   "source": [
    "import torch\n",
    "import os\n",
    "data_dir = \"/home/glab/Desktop/gruendemann2/Amine/final_data_prediction\"\n",
    "all_files = os.listdir(data_dir)\n",
    "eeg_files = sorted([f for f in all_files if f.endswith(\".npy\")])\n",
    "\n"
   ]
  },
  {
   "cell_type": "markdown",
   "id": "bcb0b5b5",
   "metadata": {},
   "source": [
    "### Loading model"
   ]
  },
  {
   "cell_type": "code",
   "execution_count": 2,
   "id": "1f71a8b6",
   "metadata": {},
   "outputs": [
    {
     "name": "stdout",
     "output_type": "stream",
     "text": [
      "Model loaded successfully\n"
     ]
    },
    {
     "name": "stderr",
     "output_type": "stream",
     "text": [
      "/home/glab/EEGNET/utils.py:36: FutureWarning: You are using `torch.load` with `weights_only=False` (the current default value), which uses the default pickle module implicitly. It is possible to construct malicious pickle data which will execute arbitrary code during unpickling (See https://github.com/pytorch/pytorch/blob/main/SECURITY.md#untrusted-models for more details). In a future release, the default value for `weights_only` will be flipped to `True`. This limits the functions that could be executed during unpickling. Arbitrary objects will no longer be allowed to be loaded via this mode unless they are explicitly allowlisted by the user via `torch.serialization.add_safe_globals`. We recommend you start setting `weights_only=True` for any use case where you don't have full control of the loaded file. Please open an issue on GitHub for any issues related to this experimental feature.\n",
      "  model.load_state_dict(torch.load(path))\n"
     ]
    }
   ],
   "source": [
    "from eegnet import EEGNet\n",
    "from utils import load_model\n",
    "device = torch.device(\"cuda\" if torch.cuda.is_available() else \"cpu\")\n",
    "model = EEGNet(F1=32, F2=8, D=2, dropout_rate=0.1604465584506531, num_classes=3).to(device)\n",
    "\n",
    "# Load the saved model weights\n",
    "model = load_model(model, '/home/glab/EEGNET_Final/best_model_10s.pth')  # Provide the correct path to your model file\n",
    "\n",
    "# Set the model to evaluation mode\n",
    "model.eval()\n",
    "\n",
    "# Check if the model is loaded correctly\n",
    "print(\"Model loaded successfully\")"
   ]
  },
  {
   "cell_type": "markdown",
   "id": "20914e34",
   "metadata": {},
   "source": [
    "### Predicting"
   ]
  },
  {
   "cell_type": "code",
   "execution_count": 11,
   "id": "fca25574",
   "metadata": {},
   "outputs": [
    {
     "name": "stdout",
     "output_type": "stream",
     "text": [
      "/home/glab/EEGNET/GoNogo-Sleep-231019_M296-231019-132512-predict-1sMoveWind10sPreWindEEGnet.npy\n"
     ]
    }
   ],
   "source": [
    "import numpy as np\n",
    "from utils import z_score_normalize\n",
    "from torch.utils.data import DataLoader, TensorDataset\n",
    "import torch.nn.functional as F\n",
    "\n",
    "for file in range(len(eeg_files)):\n",
    "    print(eeg_files[file])\n",
    "    eeg = np.load(os.path.join(data_dir, eeg_files[file]))\n",
    "    \n",
    "    # Exclude the first 8 blocks and keep only the last block (block 9)\n",
    "    eeg = eeg[:, -1, :, :]  # Shape: (n_samples, 1280, 3)\n",
    "    \n",
    "    # Exclude the third channel (keep only the first two channels)\n",
    "    eeg = eeg[:, :, :2]  # Shape: (n_samples, 1280, 2)\n",
    "    \n",
    "    for channel in range(eeg.shape[2]):  # Normalize each channel\n",
    "        eeg[:, :, channel] = z_score_normalize(eeg[:, :, channel])\n",
    "    \n",
    "    eeg_data = torch.tensor(eeg, dtype=torch.float32).to(device)\n",
    "    \n",
    "    test_dataset = TensorDataset(eeg_data)\n",
    "    test_loader = DataLoader(test_dataset, batch_size=32, shuffle=False)\n",
    "    \n",
    "    all_preds = []\n",
    "    all_probs = []\n",
    "    \n",
    "    with torch.no_grad():  # Disable gradient computation for inference\n",
    "        for batch_data in test_loader:\n",
    "            eeg_batch = batch_data[0].to(device)  # Get the input batch\n",
    "            outputs = model(eeg_batch)  # Forward pass\n",
    "            \n",
    "            # Get predicted class labels\n",
    "            _, predicted = torch.max(outputs, 1)\n",
    "            \n",
    "            # Convert to probabilities\n",
    "            probs = F.softmax(outputs, dim=1)\n",
    "            max_probs, _ = torch.max(probs, dim=1)\n",
    "           \n",
    "            # Collect predictions and probabilities\n",
    "            all_preds.extend(predicted.cpu().numpy())\n",
    "            all_probs.extend(max_probs.cpu().numpy())  # Change from append to extend\n",
    "            \n",
    "            \n",
    "    \n",
    "    # Save predictions\n",
    "    name = 'focus_session_predictions/'+eeg_files[file]+'.npy'\n",
    "    \n",
    "    np.save(name, np.array(all_preds))\n",
    "    \n",
    "    # Save probabilities \n",
    "    name = 'focus_session_probabilities/'+eeg_files[file]+'.npy'\n",
    "    \n",
    "    np.save(name, np.array(all_probs))"
   ]
  },
  {
   "cell_type": "code",
   "execution_count": null,
   "id": "aa49c9b4",
   "metadata": {},
   "outputs": [],
   "source": []
  }
 ],
 "metadata": {
  "kernelspec": {
   "display_name": "Python 3 (ipykernel)",
   "language": "python",
   "name": "python3"
  },
  "language_info": {
   "codemirror_mode": {
    "name": "ipython",
    "version": 3
   },
   "file_extension": ".py",
   "mimetype": "text/x-python",
   "name": "python",
   "nbconvert_exporter": "python",
   "pygments_lexer": "ipython3",
   "version": "3.11.6"
  }
 },
 "nbformat": 4,
 "nbformat_minor": 5
}
